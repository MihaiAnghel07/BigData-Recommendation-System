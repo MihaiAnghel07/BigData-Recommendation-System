{
 "cells": [
  {
   "cell_type": "code",
   "execution_count": 49,
   "metadata": {},
   "outputs": [
    {
     "name": "stdout",
     "output_type": "stream",
     "text": [
      "   Nr. Judeţ                                           Denumire  Cod SIRUES  \\\n",
      "0    1  Alba  LICEUL TEHNOLOGIC AGRICOL \"ALEXANDRU BORZA\" CI...    844547.0   \n",
      "1    2  Alba                          SCOALA GIMNAZIALA SOHODOL    307408.0   \n",
      "2    3  Alba            SCOALA GIMNAZIALA \"I. M. MOLDOVAN\" BLAJ    303983.0   \n",
      "3    4  Alba         SCOALA GIMNAZIALA \"PETRU PAVEL AARON\" BLAJ    304004.0   \n",
      "4    5  Alba                COLEGIUL TEHNIC \"APULUM\" ALBA IULIA   1062421.0   \n",
      "5    6  Alba         SCOALA GIMNAZIALA \"AVRAM IANCU\" ALBA IULIA    303660.0   \n",
      "6    7  Alba            COLEGIUL NATIONAL \"TITU MAIORESCU\" AIUD   3107263.0   \n",
      "7    8  Alba          LICEUL TEHNOLOGIC \"STEFAN MANCIULEA\" BLAJ    844559.0   \n",
      "8    9  Alba                            LICEUL TEHNOLOGIC SEBES    100654.0   \n",
      "9   10  Alba        SCOALA GIMNAZIALA \"LUCIAN BLAGA\" OCNA MURES    304236.0   \n",
      "\n",
      "             Fel unitate               Tip unitate  \\\n",
      "0  Unitate de învăţământ       Grup şcolar agricol   \n",
      "1  Unitate de învăţământ  Şcoala cu clasele I-VIII   \n",
      "2  Unitate de învăţământ  Şcoala cu clasele I-VIII   \n",
      "3  Unitate de învăţământ  Şcoala cu clasele I-VIII   \n",
      "4  Unitate de învăţământ            Colegiu Tehnic   \n",
      "5  Unitate de învăţământ  Şcoala cu clasele I-VIII   \n",
      "6  Unitate de învăţământ          Colegiu Naţional   \n",
      "7  Unitate de învăţământ       Grup şcolar agricol   \n",
      "8  Unitate de învăţământ    Grup şcolar industrial   \n",
      "9  Unitate de învăţământ  Şcoala cu clasele I-VIII   \n",
      "\n",
      "                    Categorie unitate    Forma de învăţământ  \\\n",
      "0                         Grup şcolar  Unitate de învăţământ   \n",
      "1  Gimnaziu ( clasele I-VIII sau I-X)  Unitate de învăţământ   \n",
      "2  Gimnaziu ( clasele I-VIII sau I-X)  Unitate de învăţământ   \n",
      "3  Gimnaziu ( clasele I-VIII sau I-X)  Unitate de învăţământ   \n",
      "4                             Colegiu  Unitate de învăţământ   \n",
      "5  Gimnaziu ( clasele I-VIII sau I-X)  Unitate de învăţământ   \n",
      "6                             Colegiu  Unitate de învăţământ   \n",
      "7                         Grup şcolar  Unitate de învăţământ   \n",
      "8                         Grup şcolar  Unitate de învăţământ   \n",
      "9  Gimnaziu ( clasele I-VIII sau I-X)  Unitate de învăţământ   \n",
      "\n",
      "           Limba de predare  \n",
      "0       Grup şcolar agricol  \n",
      "1  Şcoala cu clasele I-VIII  \n",
      "2  Şcoala cu clasele I-VIII  \n",
      "3  Şcoala cu clasele I-VIII  \n",
      "4            Colegiu Tehnic  \n",
      "5  Şcoala cu clasele I-VIII  \n",
      "6          Colegiu Naţional  \n",
      "7       Grup şcolar agricol  \n",
      "8    Grup şcolar industrial  \n",
      "9  Şcoala cu clasele I-VIII  \n"
     ]
    }
   ],
   "source": [
    "import pandas as pd\n",
    "import csv\n",
    "\n",
    "\n",
    "# Import dataset\n",
    "data = []\n",
    "min = 999\n",
    "max = 0\n",
    "\n",
    "file_path = 'bac_date-deschise_2023-ses1.csv'\n",
    " \n",
    "# Use on_bad_lines to skip lines with too many fields\n",
    "bac_data = pd.read_csv(file_path, on_bad_lines='skip')\n",
    " \n",
    "# Display the DataFrame\n",
    "bac_data = bac_data[bac_data['STATUS'] == 'Promovat']\n",
    "columns_to_drop = ['Forma de învățământ', 'Unitate (SIRUES)', 'Clasa', 'Subiect ea', 'Subiect eb','Limba modernă','Subiect ec','Subiect ed','Promoție',\n",
    "                   'NOTE_RECUN_A','NOTE_RECUN_B','NOTE_RECUN_C','NOTE_RECUN_D','NOTE_RECUN_EA','NOTE_RECUN_EB','NOTE_RECUN_EC','NOTE_RECUN_ED','STATUS_A',\n",
    "                   'STATUS_B','STATUS_C','STATUS_D','STATUS_EA','STATUS_EB','STATUS_EC','STATUS_ED','ITA','SCRIS_ITC','SCRIS_PMS','ORAL_PMO','ORAL_IO',\n",
    "                     'CONTESTATIE_EA','NOTA_CONTESTATIE_EA','CONTESTATIE_EB','NOTA_CONTESTATIE_EB','CONTESTATIE_EC','NOTA_CONTESTATIE_EC','CONTESTATIE_ED',\n",
    "                     'NOTA_CONTESTATIE_ED','PUNCTAJ DIGITALE']\n",
    "bac_data = bac_data.drop(columns=columns_to_drop)\n",
    "# print(bac_data.head(20))\n",
    "\n",
    "\n",
    "file_path = '425220906-coduri-sirues-xls.csv'\n",
    "school_data = pd.read_csv(file_path, on_bad_lines='skip')\n",
    "school_data['Cod SIRUES'] = school_data['Cod SIRUES'].head(10).astype(int)\n",
    "print(school_data.head(10))\n",
    "# Filter data\n",
    "\n"
   ]
  }
 ],
 "metadata": {
  "kernelspec": {
   "display_name": "Python 3",
   "language": "python",
   "name": "python3"
  },
  "language_info": {
   "codemirror_mode": {
    "name": "ipython",
    "version": 3
   },
   "file_extension": ".py",
   "mimetype": "text/x-python",
   "name": "python",
   "nbconvert_exporter": "python",
   "pygments_lexer": "ipython3",
   "version": "3.11.0"
  },
  "orig_nbformat": 4
 },
 "nbformat": 4,
 "nbformat_minor": 2
}
